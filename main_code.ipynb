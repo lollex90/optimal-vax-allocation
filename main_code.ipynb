{
 "cells": [
  {
   "cell_type": "markdown",
   "metadata": {},
   "source": [
    "We begin with downloading the necessary libraries"
   ]
  },
  {
   "cell_type": "code",
   "execution_count": 164,
   "metadata": {},
   "outputs": [],
   "source": [
    "from scipy.integrate import odeint\n",
    "import numpy as np\n",
    "from numpy import matrix\n",
    "import matplotlib.pyplot as plt\n",
    "import numpy.random as rnd \n",
    "with open(\"00_function_definitions.py\", mode=\"r\", encoding=\"utf-8\") as functions:\n",
    "    exec(functions.read())"
   ]
  },
  {
   "cell_type": "code",
   "execution_count": 187,
   "metadata": {},
   "outputs": [],
   "source": [
    "# Initialise constant parameters\n",
    "k = 3\n",
    "N = 10000, 20000, 40000\n",
    "beta = 2, 2, 2  \n",
    "gamma = 1, 1, 1\n",
    "alpha = 0.035, 0.035, 0.035\n",
    "t = np.linspace(0, 100, 101) \n",
    "T = 100\n",
    "maximum = 100\n",
    "minimum = 0\n",
    "\n",
    "# Initialise variable parameters\n",
    "theta_r = np.array([10000, 20000, 40000])\n",
    "omega = np.array([[0.0, 0.0, 0.0], [0.0, 0.0, 0.0], [0.0, 0.0, 0.0]])"
   ]
  },
  {
   "cell_type": "code",
   "execution_count": 188,
   "metadata": {},
   "outputs": [
    {
     "name": "stdout",
     "output_type": "stream",
     "text": [
      "DONE \n",
      "\n",
      "DONE \n",
      "\n",
      "DONE \n",
      "\n",
      "DONE \n",
      "\n",
      "DONE \n",
      "\n",
      "DONE \n",
      "\n",
      "DONE \n",
      "\n",
      "DONE \n",
      "\n",
      "DONE \n",
      "\n",
      "DONE \n",
      "\n",
      "[0.0, 5000.0, 0.0]\n"
     ]
    }
   ],
   "source": [
    "min_deaths = 1000000000000\n",
    "\n",
    "for i in range(10):\n",
    "    # initialise with a random vaccine allocation\n",
    "    y0 = (9850, 19760, 39600, 150, 240, 400, 0, 0, 0, 0, 0, 0) + generate_random(3, 5000)\n",
    "\n",
    "    while maximum - minimum > 0.00000002:\n",
    "        m_eff = find_marginal_vax_effect(y0, t, k, N, beta, gamma, alpha, theta_r, omega, T)\n",
    "        y0  = transfer_vax(m_eff, y0, k)\n",
    "        if y0[-1] == -1:\n",
    "            break\n",
    "    \n",
    "        minimum = min(m_eff)\n",
    "        maximum = max(m_eff)\n",
    "\n",
    "    deaths = sum(calculate_deaths(y0[:15], t, k, N, beta, gamma, alpha, theta_r, omega, T))\n",
    "    if deaths < min_deaths:\n",
    "        min_deaths = deaths\n",
    "        solution = y0[4*k:5*k]\n",
    "    print(\"DONE \\n\")\n",
    "\n",
    "print(solution)"
   ]
  }
 ],
 "metadata": {
  "kernelspec": {
   "display_name": "base",
   "language": "python",
   "name": "python3"
  },
  "language_info": {
   "codemirror_mode": {
    "name": "ipython",
    "version": 3
   },
   "file_extension": ".py",
   "mimetype": "text/x-python",
   "name": "python",
   "nbconvert_exporter": "python",
   "pygments_lexer": "ipython3",
   "version": "3.9.7"
  }
 },
 "nbformat": 4,
 "nbformat_minor": 2
}
